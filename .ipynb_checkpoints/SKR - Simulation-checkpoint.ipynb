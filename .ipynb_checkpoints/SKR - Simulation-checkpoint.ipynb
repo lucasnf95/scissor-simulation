{
 "cells": [
  {
   "cell_type": "code",
   "execution_count": 1,
   "id": "9ad7d1ff",
   "metadata": {},
   "outputs": [
    {
     "name": "stderr",
     "output_type": "stream",
     "text": [
      "C:\\Users\\lunfa\\AppData\\Roaming\\Python\\Python38\\site-packages\\scipy\\__init__.py:138: UserWarning: A NumPy version >=1.16.5 and <1.23.0 is required for this version of SciPy (detected version 1.24.3)\n",
      "  warnings.warn(f\"A NumPy version >={np_minversion} and <{np_maxversion} is required for this version of \"\n"
     ]
    }
   ],
   "source": [
    "import qutip\n",
    "import numpy as np\n",
    "import matplotlib.pyplot as plt\n",
    "from scipy import linalg\n",
    "import scissor\n",
    "import secretkeyrate as skr"
   ]
  },
  {
   "cell_type": "code",
   "execution_count": null,
   "id": "e3f9a377",
   "metadata": {},
   "outputs": [],
   "source": [
    "## Comments\n",
    "#### Holevo bound is always nan and I don't understand why"
   ]
  },
  {
   "cell_type": "code",
   "execution_count": 2,
   "id": "b150449b",
   "metadata": {},
   "outputs": [],
   "source": [
    "dimension = 5\n",
    "\n",
    "a = qutip.destroy(dimension)\n",
    "q = (1/np.sqrt(2))*(a + a.dag())\n",
    "p = -(1j/np.sqrt(2))*(a - a.dag())\n",
    "quadratures = [q, p]"
   ]
  },
  {
   "cell_type": "code",
   "execution_count": 27,
   "id": "3c7c9616",
   "metadata": {},
   "outputs": [],
   "source": [
    "single_photon_efficiency = 1\n",
    "bob_transmission = 1\n",
    "alice_transmission = 1\n",
    "\n",
    "rho_ab = scissor.eb_quantum_scissor(0.6, dimension)\n",
    "cov_ab = skr.covariance_matrix_2mode(quadratures, rho_ab)\n",
    "I_ab = skr.mutual_information(cov_ab)\n",
    "chi = skr.holevo_information(cov_ab)\n",
    "key_rate = 0.9*(I_ab - chi)"
   ]
  },
  {
   "cell_type": "code",
   "execution_count": null,
   "id": "24423cb7",
   "metadata": {},
   "outputs": [],
   "source": [
    "## Copied from library so I can understand what is wrong\n",
    "\n",
    "def cov_block(cov):\n",
    "    '''\n",
    "    Take the blocks on 2 mode covariance matrix related to mode 1, mode 2 and correlations.\n",
    "    Parameters\n",
    "        cov: ndarray\n",
    "            2mode covariance matrix\n",
    "    Return\n",
    "        block_A: ndarray\n",
    "            1mode covariance matrix of first mode\n",
    "        block_B: ndarray\n",
    "            1mode covariance matrix of second mode\n",
    "        block_corr: ndarray\n",
    "            correlations between modes\n",
    "    '''\n",
    "    block_A = [[cov[0,0], cov[0,1]],[cov[1,0], cov[1,1]]]\n",
    "    block_B = [[cov[2,2], cov[2,3]],[cov[3,2], cov[3,3]]]\n",
    "    block_corr = [[cov[0,2], cov[0,3]],[cov[1,2], cov[1,3]]]\n",
    "    \n",
    "    return block_A, block_B, block_corr\n",
    "\n",
    "def homodyne_measurement(cov, quadrature, mode):\n",
    "    '''\n",
    "    Perform a homodyne measurement in one mode of a 2mode system described by a covariance matrix.\n",
    "    Parameters\n",
    "        cov: ndarray\n",
    "            2-mode covariance matrix\n",
    "        quadrature: string \n",
    "            quadrature being measured (possibilities: 'q', 'p', 'heterodyne')\n",
    "        mode: int\n",
    "            mode on which measurements are being performed (possibilities: 0 or 1)\n",
    "    Return\n",
    "        reduced_cov: ndarray\n",
    "            1-mode covariance matrix of the remaining system\n",
    "    '''\n",
    "    block_A, block_B, block_corr = cov_block(cov)\n",
    "    \n",
    "    if quadrature == 'q':\n",
    "        meas = [[1,0],[0,0]]\n",
    "        var = cov[0 + 2*mode][0 + 2*mode]\n",
    "    elif quadrature == 'p':\n",
    "        meas = [[0,0],[0,1]]\n",
    "        var = cov[1 + 2*mode][1 + 2*mode]\n",
    "    elif quadrature == 'heterodyne':\n",
    "        meas = np.array(qutip.Qobj(block_B) + qutip.Qobj([[1,0],[0,1]]))\n",
    "        var = 1\n",
    "    else:\n",
    "        print('Quadrature not recognized')\n",
    "        return\n",
    "    \n",
    "    if mode == 0:\n",
    "        reduced_cov = np.array(qutip.Qobj(block_A) - (1/var)*qutip.Qobj(block_corr)*qutip.Qobj(meas)*(qutip.Qobj(block_corr).conj()))\n",
    "    elif mode == 1:\n",
    "        reduced_cov = np.array(qutip.Qobj(block_B) - (1/var)*qutip.Qobj(block_corr)*qutip.Qobj(meas)*(qutip.Qobj(block_corr).conj()))\n",
    "        \n",
    "    return reduced_cov\n",
    "\n",
    "def sympletic_eigenvalues(cov):\n",
    "    '''\n",
    "    Calculates the positive sympletic eigenvalue of a single-mode or two-mode covariance matrix\n",
    "    Parameters:\n",
    "        cov: ndarray\n",
    "            Covariance matrix\n",
    "    Return:\n",
    "        e or e1, e2: float\n",
    "            Sympletic eigenvalues\n",
    "    '''\n",
    "    Omega = 1j*qutip.sigmay()\n",
    "    zero2 = qutip.qeye(2)-qutip.qeye(2)\n",
    "    Omega2 = np.block([[Omega, zero2],[zero2, Omega]])\n",
    "    \n",
    "    if len(cov) == 2:\n",
    "        # Covariance matrix describes a single-mode system\n",
    "        sigma = qutip.Qobj(1j*Omega*cov)\n",
    "        _, e = sigma.eigenenergies()\n",
    "        return e\n",
    "    if len(cov) == 4:\n",
    "        # Covariance matrix describes a two-mode system\n",
    "        sigma = qutip.Qobj(1j*Omega2*cov)\n",
    "        _, _, e1, e2 = sigma.eigenenergies()\n",
    "        return e1, e2\n",
    "\n",
    "def von_neumann_entropy(cov):\n",
    "    '''\n",
    "    Calculate the Von Neumann entropy of a covariance matrix in terms of the sympletic eigenvalues\n",
    "    Parameters\n",
    "        cov: ndarray\n",
    "            Covariance matrix\n",
    "    Return\n",
    "        S: float\n",
    "            Von Neumann entropy\n",
    "    '''\n",
    "    if len(cov) == 4:\n",
    "        # Two-mode system\n",
    "        e1, e2 = sympletic_eigenvalues(cov)\n",
    "        eigenvalues = [e1, e2]\n",
    "    elif len(cov) == 2:\n",
    "        # Single-mode system\n",
    "        e = sympletic_eigenvalues(cov)\n",
    "        eigenvalues = [e]\n",
    "        \n",
    "    S = 0\n",
    "    for e in eigenvalues:\n",
    "        plus = (e+1)/2\n",
    "        minus = (e-1)/2\n",
    "        S += plus*np.log2(plus) - minus*np.log2(minus)\n",
    "    \n",
    "    return S\n",
    "\n",
    "def holevo_information(cov, quadrature = 'heterodyne', mode = 1):\n",
    "    '''\n",
    "    Calculate Eve's Holevo information assuming the Gaussian optimality.\n",
    "    Parameters\n",
    "        cov: ndarray\n",
    "            2-mode covariance matrix\n",
    "        quadrature: string\n",
    "            quadrature being measured (possibilities: 'q', 'p', 'heterodyne')\n",
    "        mode: int\n",
    "            mode on which measurements are being performed (possibilities: 0 or 1)\n",
    "    Return\n",
    "        chi: float\n",
    "            Eve's Holevo information\n",
    "    '''\n",
    "    S_AB = von_neumann_entropy(cov)\n",
    "    \n",
    "    reduced_cov = homodyne_measurement(cov, quadrature, mode)\n",
    "    S_A = von_neumann_entropy(reduced_cov)\n",
    "    \n",
    "    chi = S_AB - S_A\n",
    "    \n",
    "    return chi"
   ]
  },
  {
   "cell_type": "code",
   "execution_count": 13,
   "id": "fb9f2b11",
   "metadata": {},
   "outputs": [],
   "source": [
    "def mutinf(r, dimension):\n",
    "    rho_ab = scissor.eb_quantum_scissor(r, dimension)\n",
    "    cov_ab = skr.covariance_matrix_2mode(quadratures, rho_ab)\n",
    "    I_ab = skr.mutual_information(cov_ab)\n",
    "\n",
    "    return I_ab"
   ]
  },
  {
   "cell_type": "code",
   "execution_count": 17,
   "id": "6e079924",
   "metadata": {},
   "outputs": [],
   "source": [
    "r_list = np.linspace(0, 2, 100)\n",
    "\n",
    "vector_Iab = np.vectorize(mutinf)\n",
    "I_ab_list = vector_Iab(r_list, dimension)"
   ]
  },
  {
   "cell_type": "code",
   "execution_count": 18,
   "id": "8b80c876",
   "metadata": {},
   "outputs": [
    {
     "name": "stderr",
     "output_type": "stream",
     "text": [
      "C:\\Users\\lunfa\\AppData\\Roaming\\Python\\Python38\\site-packages\\matplotlib\\cbook\\__init__.py:1333: ComplexWarning: Casting complex values to real discards the imaginary part\n",
      "  return np.asarray(x, float)\n"
     ]
    },
    {
     "data": {
      "image/png": "[encoded data removed]",
      "text/plain": [
       "<Figure size 432x288 with 1 Axes>"
      ]
     },
     "metadata": {
      "needs_background": "light"
     },
     "output_type": "display_data"
    }
   ],
   "source": [
    "plt.figure()\n",
    "plt.plot(r_list, I_ab_list)\n",
    "plt.show()"
   ]
  },
  {
   "cell_type": "code",
   "execution_count": null,
   "id": "dcbd8141",
   "metadata": {},
   "outputs": [],
   "source": []
  }
 ],
 "metadata": {
  "kernelspec": {
   "display_name": "Python 3",
   "language": "python",
   "name": "python3"
  },
  "language_info": {
   "codemirror_mode": {
    "name": "ipython",
    "version": 3
   },
   "file_extension": ".py",
   "mimetype": "text/x-python",
   "name": "python",
   "nbconvert_exporter": "python",
   "pygments_lexer": "ipython3",
   "version": "3.8.18"
  }
 },
 "nbformat": 4,
 "nbformat_minor": 5
}
